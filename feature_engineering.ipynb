{
  "nbformat": 4,
  "nbformat_minor": 0,
  "metadata": {
    "colab": {
      "provenance": [],
      "mount_file_id": "11zmPZXIwFqDgIWSdz1FYEhbZ_P3-Nstb",
      "authorship_tag": "ABX9TyOHQv0nIPvzHOjqaxhzUaLB",
      "include_colab_link": true
    },
    "kernelspec": {
      "name": "python3",
      "display_name": "Python 3"
    },
    "language_info": {
      "name": "python"
    }
  },
  "cells": [
    {
      "cell_type": "markdown",
      "metadata": {
        "id": "view-in-github",
        "colab_type": "text"
      },
      "source": [
        "<a href=\"https://colab.research.google.com/github/Pmilivojevic/PyTorch/blob/main/feature_engineering.ipynb\" target=\"_parent\"><img src=\"https://colab.research.google.com/assets/colab-badge.svg\" alt=\"Open In Colab\"/></a>"
      ]
    },
    {
      "cell_type": "code",
      "execution_count": null,
      "metadata": {
        "id": "Er39-79JiHU1"
      },
      "outputs": [],
      "source": [
        "# !pip install -U dtale\n",
        "# !pip install -U six\n",
        "import pandas as pd\n",
        "import numpy as np\n",
        "import matplotlib.pyplot as plt\n",
        "import seaborn as sns\n",
        "from sklearn.preprocessing import MinMaxScaler\n",
        "from sklearn.linear_model import Lasso\n",
        "from sklearn.feature_selection import SelectFromModel\n",
        "import dtale\n",
        "import dtale.app as dtale_app\n",
        "# dtale_ap.USE_NGROK = True\n",
        "dtale_app.USE_COLAB = True\n",
        "\n",
        "pd.pandas.set_option('display.max_columns', None)\n",
        "pd.pandas.set_option('display.max_rows', None)"
      ]
    },
    {
      "cell_type": "code",
      "source": [
        "dataset = pd.read_csv('/content/drive/MyDrive/ColabNotebooks/ExploratoryDataAnalysis/datasets/train.csv')\n",
        "df = sns.load_dataset('planets')"
      ],
      "metadata": {
        "id": "EPdvJlVSikf5"
      },
      "execution_count": null,
      "outputs": []
    },
    {
      "cell_type": "code",
      "source": [
        "dtale.show(dataset)"
      ],
      "metadata": {
        "colab": {
          "base_uri": "https://localhost:8080/",
          "height": 124
        },
        "id": "mzMPFWNsLPPm",
        "outputId": "f76cd668-eada-4d67-ae26-faf25c60bdbc"
      },
      "execution_count": null,
      "outputs": [
        {
          "output_type": "stream",
          "name": "stderr",
          "text": [
            "/usr/local/lib/python3.10/dist-packages/dtale/views.py:789: FutureWarning:\n",
            "\n",
            "['Alley', 'MasVnrType', 'BsmtQual', 'BsmtCond', 'BsmtExposure', 'BsmtFinType1', 'BsmtFinType2', 'Electrical', 'FireplaceQu', 'GarageType', 'GarageFinish', 'GarageQual', 'GarageCond', 'PoolQC', 'Fence', 'MiscFeature'] did not aggregate successfully. If any error is raised this will raise in a future version of pandas. Drop these columns/ops to avoid this warning.\n",
            "\n"
          ]
        },
        {
          "output_type": "execute_result",
          "data": {
            "text/plain": [
              "https://og97w0ql39f-496ff2e9c6d22116-40000-colab.googleusercontent.com/dtale/main/1"
            ]
          },
          "metadata": {},
          "execution_count": 3
        }
      ]
    },
    {
      "cell_type": "code",
      "source": [
        "features_nan = [\n",
        "    feature for feature in dataset.columns\n",
        "    if dataset[feature].isnull().sum() > 0 and\n",
        "    dataset[feature].dtype == 'O'\n",
        "]\n",
        "\n",
        "for feature in features_nan:\n",
        "  print(f'{feature}: {np.round(dataset[feature].isnull().mean(), 4)}')"
      ],
      "metadata": {
        "id": "cDjDhtD8iWlB"
      },
      "execution_count": null,
      "outputs": []
    },
    {
      "cell_type": "code",
      "source": [
        "def replace_nan_vals(dataset, nan_features):\n",
        "  data = dataset.copy()\n",
        "\n",
        "  data[nan_features] = data[nan_features].fillna('Missing')\n",
        "\n",
        "  return data"
      ],
      "metadata": {
        "id": "aS2veO9XjM7k"
      },
      "execution_count": null,
      "outputs": []
    },
    {
      "cell_type": "code",
      "source": [
        "dataset = replace_nan_vals(dataset, features_nan)\n",
        "dataset[features_nan].isnull().sum()"
      ],
      "metadata": {
        "id": "upvOVWtc52BX"
      },
      "execution_count": null,
      "outputs": []
    },
    {
      "cell_type": "code",
      "source": [
        "features_num_nan = [\n",
        "    feature for feature in dataset.columns\n",
        "    if dataset[feature].isnull().sum() > 0 and\n",
        "    dataset[feature].dtype != 'O'\n",
        "]\n",
        "\n",
        "for feature in features_num_nan:\n",
        "  print(f'{feature} {np.round(dataset[feature].isnull().mean(), 4)}: missing values')"
      ],
      "metadata": {
        "id": "tF5VWErE6iGg"
      },
      "execution_count": null,
      "outputs": []
    },
    {
      "cell_type": "code",
      "source": [
        "for feature in features_num_nan:\n",
        "  median_val = dataset[feature].median()\n",
        "\n",
        "  dataset[feature + '_nan'] = np.where(dataset[feature].isnull(), 1, 0)\n",
        "  dataset[feature] = median_val\n",
        "\n",
        "dataset[features_num_nan].isnull().sum()"
      ],
      "metadata": {
        "id": "a8bgoR_G7h7i"
      },
      "execution_count": null,
      "outputs": []
    },
    {
      "cell_type": "code",
      "source": [
        "temp_features = [\n",
        "    feature for feature in dataset.columns\n",
        "    if ('Yr' in feature or 'Year' in feature) and\n",
        "    'Sold' not in feature and 'nan' not in feature\n",
        "]\n",
        "\n",
        "for feature in temp_features:\n",
        "  dataset[feature] = dataset['YrSold'] - dataset[feature]\n",
        "\n",
        "dataset[temp_features].head()"
      ],
      "metadata": {
        "id": "fnJABGWx_tMd"
      },
      "execution_count": null,
      "outputs": []
    },
    {
      "cell_type": "code",
      "source": [
        "num_features=['LotFrontage', 'LotArea', '1stFlrSF', 'GrLivArea', 'SalePrice']\n",
        "\n",
        "for feature in num_features:\n",
        "  dataset[feature] = np.log(dataset[feature])"
      ],
      "metadata": {
        "id": "U9T62XbNC11C"
      },
      "execution_count": null,
      "outputs": []
    },
    {
      "cell_type": "code",
      "source": [
        "categorical_features = [\n",
        "    feature for feature in dataset.columns\n",
        "    if dataset[feature].dtype == 'O'\n",
        "]"
      ],
      "metadata": {
        "id": "biSbLO7fbOTJ"
      },
      "execution_count": null,
      "outputs": []
    },
    {
      "cell_type": "code",
      "source": [
        "for feature in categorical_features:\n",
        "  temp = dataset.groupby(feature)['SalePrice'].count()/len(dataset)\n",
        "  temp_df = temp[temp > 0.01].index\n",
        "  dataset[feature] = np.where(dataset[feature].isin(temp_df), dataset[feature], 'Rare_var')"
      ],
      "metadata": {
        "id": "vSWIdgTxcafc"
      },
      "execution_count": null,
      "outputs": []
    },
    {
      "cell_type": "code",
      "source": [
        "dataset[categorical_features[-1]]"
      ],
      "metadata": {
        "id": "A-yX9RUJ_3IN"
      },
      "execution_count": null,
      "outputs": []
    },
    {
      "cell_type": "code",
      "source": [
        "for feature in categorical_features:\n",
        "  labels_ordered = dataset.groupby(feature)['SalePrice'].mean().sort_values().index\n",
        "  labels_ordered = {k:i for i,k in enumerate(labels_ordered)}\n",
        "\n",
        "  dataset[feature] = dataset[feature].map(labels_ordered)"
      ],
      "metadata": {
        "id": "0peJiCWFACf-"
      },
      "execution_count": null,
      "outputs": []
    },
    {
      "cell_type": "code",
      "source": [
        "features_scale = [feature for feature in dataset.columns if feature not in ['Id', 'SalePrice']]\n",
        "scaler = MinMaxScaler()\n",
        "scaler.fit(dataset[features_scale])"
      ],
      "metadata": {
        "id": "S56PpNQEjGv2"
      },
      "execution_count": null,
      "outputs": []
    },
    {
      "cell_type": "code",
      "source": [
        "scaler.transform(dataset[features_scale])"
      ],
      "metadata": {
        "id": "FSUb180AnlKz"
      },
      "execution_count": null,
      "outputs": []
    },
    {
      "cell_type": "code",
      "source": [
        "data = pd.concat(\n",
        "    [\n",
        "        dataset[['Id', 'SalePrice']].reset_index(drop=True),\n",
        "        pd.DataFrame(scaler.transform(dataset[features_scale]), columns=features_scale)\n",
        "    ], axis=1\n",
        ")\n",
        "\n",
        "data.head()"
      ],
      "metadata": {
        "id": "vojxHjZkEYlq"
      },
      "execution_count": null,
      "outputs": []
    },
    {
      "cell_type": "code",
      "source": [
        "Y_train = data[['SalePrice']]\n",
        "X_train = data.drop(['Id', 'SalePrice'], axis=1)"
      ],
      "metadata": {
        "id": "ekKzYUUPG6wM"
      },
      "execution_count": null,
      "outputs": []
    },
    {
      "cell_type": "code",
      "source": [
        "feature_select_model = SelectFromModel(Lasso(alpha=0.005, random_state=0))\n",
        "feature_select_model.fit(X_train, Y_train)"
      ],
      "metadata": {
        "id": "wWqMaGc2G71d"
      },
      "execution_count": null,
      "outputs": []
    },
    {
      "cell_type": "code",
      "source": [
        "selected_features = X_train.columns[(feature_select_model.get_support())]"
      ],
      "metadata": {
        "id": "yTL0dZFGJ2HQ"
      },
      "execution_count": null,
      "outputs": []
    },
    {
      "cell_type": "code",
      "source": [
        "X_train[selected_features].head()"
      ],
      "metadata": {
        "colab": {
          "base_uri": "https://localhost:8080/",
          "height": 226
        },
        "id": "Ncr0qd3jK7TY",
        "outputId": "bf4bb195-0762-47bf-ee77-e819bcfd5841"
      },
      "execution_count": null,
      "outputs": [
        {
          "output_type": "execute_result",
          "data": {
            "text/plain": [
              "   MSSubClass  MSZoning  Neighborhood  OverallQual  YearRemodAdd  RoofStyle  \\\n",
              "0    0.235294      0.75      0.636364     0.666667      0.098361        0.0   \n",
              "1    0.000000      0.75      0.500000     0.555556      0.524590        0.0   \n",
              "2    0.235294      0.75      0.636364     0.666667      0.114754        0.0   \n",
              "3    0.294118      0.75      0.727273     0.666667      0.606557        0.0   \n",
              "4    0.235294      0.75      1.000000     0.777778      0.147541        0.0   \n",
              "\n",
              "   BsmtQual  BsmtExposure  HeatingQC  CentralAir  1stFlrSF  GrLivArea  \\\n",
              "0      0.75          0.25       1.00         1.0  0.356155   0.577712   \n",
              "1      0.75          1.00       1.00         1.0  0.503056   0.470245   \n",
              "2      0.75          0.50       1.00         1.0  0.383441   0.593095   \n",
              "3      0.50          0.25       0.75         1.0  0.399941   0.579157   \n",
              "4      0.75          0.75       1.00         1.0  0.466237   0.666523   \n",
              "\n",
              "   BsmtFullBath  KitchenQual  Fireplaces  FireplaceQu  GarageType  \\\n",
              "0      0.333333     0.666667    0.000000          0.2         0.8   \n",
              "1      0.000000     0.333333    0.333333          0.6         0.8   \n",
              "2      0.333333     0.666667    0.333333          0.6         0.8   \n",
              "3      0.333333     0.666667    0.333333          0.8         0.4   \n",
              "4      0.333333     0.666667    0.333333          0.6         0.8   \n",
              "\n",
              "   GarageFinish  GarageCars  PavedDrive  SaleCondition  \n",
              "0      0.666667        0.50         1.0           0.75  \n",
              "1      0.666667        0.50         1.0           0.75  \n",
              "2      0.666667        0.50         1.0           0.75  \n",
              "3      0.333333        0.75         1.0           0.00  \n",
              "4      0.666667        0.75         1.0           0.75  "
            ],
            "text/html": [
              "\n",
              "  <div id=\"df-bdda128d-2a16-451c-b253-c3ca03fbc3de\" class=\"colab-df-container\">\n",
              "    <div>\n",
              "<style scoped>\n",
              "    .dataframe tbody tr th:only-of-type {\n",
              "        vertical-align: middle;\n",
              "    }\n",
              "\n",
              "    .dataframe tbody tr th {\n",
              "        vertical-align: top;\n",
              "    }\n",
              "\n",
              "    .dataframe thead th {\n",
              "        text-align: right;\n",
              "    }\n",
              "</style>\n",
              "<table border=\"1\" class=\"dataframe\">\n",
              "  <thead>\n",
              "    <tr style=\"text-align: right;\">\n",
              "      <th></th>\n",
              "      <th>MSSubClass</th>\n",
              "      <th>MSZoning</th>\n",
              "      <th>Neighborhood</th>\n",
              "      <th>OverallQual</th>\n",
              "      <th>YearRemodAdd</th>\n",
              "      <th>RoofStyle</th>\n",
              "      <th>BsmtQual</th>\n",
              "      <th>BsmtExposure</th>\n",
              "      <th>HeatingQC</th>\n",
              "      <th>CentralAir</th>\n",
              "      <th>1stFlrSF</th>\n",
              "      <th>GrLivArea</th>\n",
              "      <th>BsmtFullBath</th>\n",
              "      <th>KitchenQual</th>\n",
              "      <th>Fireplaces</th>\n",
              "      <th>FireplaceQu</th>\n",
              "      <th>GarageType</th>\n",
              "      <th>GarageFinish</th>\n",
              "      <th>GarageCars</th>\n",
              "      <th>PavedDrive</th>\n",
              "      <th>SaleCondition</th>\n",
              "    </tr>\n",
              "  </thead>\n",
              "  <tbody>\n",
              "    <tr>\n",
              "      <th>0</th>\n",
              "      <td>0.235294</td>\n",
              "      <td>0.75</td>\n",
              "      <td>0.636364</td>\n",
              "      <td>0.666667</td>\n",
              "      <td>0.098361</td>\n",
              "      <td>0.0</td>\n",
              "      <td>0.75</td>\n",
              "      <td>0.25</td>\n",
              "      <td>1.00</td>\n",
              "      <td>1.0</td>\n",
              "      <td>0.356155</td>\n",
              "      <td>0.577712</td>\n",
              "      <td>0.333333</td>\n",
              "      <td>0.666667</td>\n",
              "      <td>0.000000</td>\n",
              "      <td>0.2</td>\n",
              "      <td>0.8</td>\n",
              "      <td>0.666667</td>\n",
              "      <td>0.50</td>\n",
              "      <td>1.0</td>\n",
              "      <td>0.75</td>\n",
              "    </tr>\n",
              "    <tr>\n",
              "      <th>1</th>\n",
              "      <td>0.000000</td>\n",
              "      <td>0.75</td>\n",
              "      <td>0.500000</td>\n",
              "      <td>0.555556</td>\n",
              "      <td>0.524590</td>\n",
              "      <td>0.0</td>\n",
              "      <td>0.75</td>\n",
              "      <td>1.00</td>\n",
              "      <td>1.00</td>\n",
              "      <td>1.0</td>\n",
              "      <td>0.503056</td>\n",
              "      <td>0.470245</td>\n",
              "      <td>0.000000</td>\n",
              "      <td>0.333333</td>\n",
              "      <td>0.333333</td>\n",
              "      <td>0.6</td>\n",
              "      <td>0.8</td>\n",
              "      <td>0.666667</td>\n",
              "      <td>0.50</td>\n",
              "      <td>1.0</td>\n",
              "      <td>0.75</td>\n",
              "    </tr>\n",
              "    <tr>\n",
              "      <th>2</th>\n",
              "      <td>0.235294</td>\n",
              "      <td>0.75</td>\n",
              "      <td>0.636364</td>\n",
              "      <td>0.666667</td>\n",
              "      <td>0.114754</td>\n",
              "      <td>0.0</td>\n",
              "      <td>0.75</td>\n",
              "      <td>0.50</td>\n",
              "      <td>1.00</td>\n",
              "      <td>1.0</td>\n",
              "      <td>0.383441</td>\n",
              "      <td>0.593095</td>\n",
              "      <td>0.333333</td>\n",
              "      <td>0.666667</td>\n",
              "      <td>0.333333</td>\n",
              "      <td>0.6</td>\n",
              "      <td>0.8</td>\n",
              "      <td>0.666667</td>\n",
              "      <td>0.50</td>\n",
              "      <td>1.0</td>\n",
              "      <td>0.75</td>\n",
              "    </tr>\n",
              "    <tr>\n",
              "      <th>3</th>\n",
              "      <td>0.294118</td>\n",
              "      <td>0.75</td>\n",
              "      <td>0.727273</td>\n",
              "      <td>0.666667</td>\n",
              "      <td>0.606557</td>\n",
              "      <td>0.0</td>\n",
              "      <td>0.50</td>\n",
              "      <td>0.25</td>\n",
              "      <td>0.75</td>\n",
              "      <td>1.0</td>\n",
              "      <td>0.399941</td>\n",
              "      <td>0.579157</td>\n",
              "      <td>0.333333</td>\n",
              "      <td>0.666667</td>\n",
              "      <td>0.333333</td>\n",
              "      <td>0.8</td>\n",
              "      <td>0.4</td>\n",
              "      <td>0.333333</td>\n",
              "      <td>0.75</td>\n",
              "      <td>1.0</td>\n",
              "      <td>0.00</td>\n",
              "    </tr>\n",
              "    <tr>\n",
              "      <th>4</th>\n",
              "      <td>0.235294</td>\n",
              "      <td>0.75</td>\n",
              "      <td>1.000000</td>\n",
              "      <td>0.777778</td>\n",
              "      <td>0.147541</td>\n",
              "      <td>0.0</td>\n",
              "      <td>0.75</td>\n",
              "      <td>0.75</td>\n",
              "      <td>1.00</td>\n",
              "      <td>1.0</td>\n",
              "      <td>0.466237</td>\n",
              "      <td>0.666523</td>\n",
              "      <td>0.333333</td>\n",
              "      <td>0.666667</td>\n",
              "      <td>0.333333</td>\n",
              "      <td>0.6</td>\n",
              "      <td>0.8</td>\n",
              "      <td>0.666667</td>\n",
              "      <td>0.75</td>\n",
              "      <td>1.0</td>\n",
              "      <td>0.75</td>\n",
              "    </tr>\n",
              "  </tbody>\n",
              "</table>\n",
              "</div>\n",
              "    <div class=\"colab-df-buttons\">\n",
              "\n",
              "  <div class=\"colab-df-container\">\n",
              "    <button class=\"colab-df-convert\" onclick=\"convertToInteractive('df-bdda128d-2a16-451c-b253-c3ca03fbc3de')\"\n",
              "            title=\"Convert this dataframe to an interactive table.\"\n",
              "            style=\"display:none;\">\n",
              "\n",
              "  <svg xmlns=\"http://www.w3.org/2000/svg\" height=\"24px\" viewBox=\"0 -960 960 960\">\n",
              "    <path d=\"M120-120v-720h720v720H120Zm60-500h600v-160H180v160Zm220 220h160v-160H400v160Zm0 220h160v-160H400v160ZM180-400h160v-160H180v160Zm440 0h160v-160H620v160ZM180-180h160v-160H180v160Zm440 0h160v-160H620v160Z\"/>\n",
              "  </svg>\n",
              "    </button>\n",
              "\n",
              "  <style>\n",
              "    .colab-df-container {\n",
              "      display:flex;\n",
              "      gap: 12px;\n",
              "    }\n",
              "\n",
              "    .colab-df-convert {\n",
              "      background-color: #E8F0FE;\n",
              "      border: none;\n",
              "      border-radius: 50%;\n",
              "      cursor: pointer;\n",
              "      display: none;\n",
              "      fill: #1967D2;\n",
              "      height: 32px;\n",
              "      padding: 0 0 0 0;\n",
              "      width: 32px;\n",
              "    }\n",
              "\n",
              "    .colab-df-convert:hover {\n",
              "      background-color: #E2EBFA;\n",
              "      box-shadow: 0px 1px 2px rgba(60, 64, 67, 0.3), 0px 1px 3px 1px rgba(60, 64, 67, 0.15);\n",
              "      fill: #174EA6;\n",
              "    }\n",
              "\n",
              "    .colab-df-buttons div {\n",
              "      margin-bottom: 4px;\n",
              "    }\n",
              "\n",
              "    [theme=dark] .colab-df-convert {\n",
              "      background-color: #3B4455;\n",
              "      fill: #D2E3FC;\n",
              "    }\n",
              "\n",
              "    [theme=dark] .colab-df-convert:hover {\n",
              "      background-color: #434B5C;\n",
              "      box-shadow: 0px 1px 3px 1px rgba(0, 0, 0, 0.15);\n",
              "      filter: drop-shadow(0px 1px 2px rgba(0, 0, 0, 0.3));\n",
              "      fill: #FFFFFF;\n",
              "    }\n",
              "  </style>\n",
              "\n",
              "    <script>\n",
              "      const buttonEl =\n",
              "        document.querySelector('#df-bdda128d-2a16-451c-b253-c3ca03fbc3de button.colab-df-convert');\n",
              "      buttonEl.style.display =\n",
              "        google.colab.kernel.accessAllowed ? 'block' : 'none';\n",
              "\n",
              "      async function convertToInteractive(key) {\n",
              "        const element = document.querySelector('#df-bdda128d-2a16-451c-b253-c3ca03fbc3de');\n",
              "        const dataTable =\n",
              "          await google.colab.kernel.invokeFunction('convertToInteractive',\n",
              "                                                    [key], {});\n",
              "        if (!dataTable) return;\n",
              "\n",
              "        const docLinkHtml = 'Like what you see? Visit the ' +\n",
              "          '<a target=\"_blank\" href=https://colab.research.google.com/notebooks/data_table.ipynb>data table notebook</a>'\n",
              "          + ' to learn more about interactive tables.';\n",
              "        element.innerHTML = '';\n",
              "        dataTable['output_type'] = 'display_data';\n",
              "        await google.colab.output.renderOutput(dataTable, element);\n",
              "        const docLink = document.createElement('div');\n",
              "        docLink.innerHTML = docLinkHtml;\n",
              "        element.appendChild(docLink);\n",
              "      }\n",
              "    </script>\n",
              "  </div>\n",
              "\n",
              "\n",
              "<div id=\"df-456d2e98-c3cd-40f8-8391-11bb6db98b61\">\n",
              "  <button class=\"colab-df-quickchart\" onclick=\"quickchart('df-456d2e98-c3cd-40f8-8391-11bb6db98b61')\"\n",
              "            title=\"Suggest charts\"\n",
              "            style=\"display:none;\">\n",
              "\n",
              "<svg xmlns=\"http://www.w3.org/2000/svg\" height=\"24px\"viewBox=\"0 0 24 24\"\n",
              "     width=\"24px\">\n",
              "    <g>\n",
              "        <path d=\"M19 3H5c-1.1 0-2 .9-2 2v14c0 1.1.9 2 2 2h14c1.1 0 2-.9 2-2V5c0-1.1-.9-2-2-2zM9 17H7v-7h2v7zm4 0h-2V7h2v10zm4 0h-2v-4h2v4z\"/>\n",
              "    </g>\n",
              "</svg>\n",
              "  </button>\n",
              "\n",
              "<style>\n",
              "  .colab-df-quickchart {\n",
              "      --bg-color: #E8F0FE;\n",
              "      --fill-color: #1967D2;\n",
              "      --hover-bg-color: #E2EBFA;\n",
              "      --hover-fill-color: #174EA6;\n",
              "      --disabled-fill-color: #AAA;\n",
              "      --disabled-bg-color: #DDD;\n",
              "  }\n",
              "\n",
              "  [theme=dark] .colab-df-quickchart {\n",
              "      --bg-color: #3B4455;\n",
              "      --fill-color: #D2E3FC;\n",
              "      --hover-bg-color: #434B5C;\n",
              "      --hover-fill-color: #FFFFFF;\n",
              "      --disabled-bg-color: #3B4455;\n",
              "      --disabled-fill-color: #666;\n",
              "  }\n",
              "\n",
              "  .colab-df-quickchart {\n",
              "    background-color: var(--bg-color);\n",
              "    border: none;\n",
              "    border-radius: 50%;\n",
              "    cursor: pointer;\n",
              "    display: none;\n",
              "    fill: var(--fill-color);\n",
              "    height: 32px;\n",
              "    padding: 0;\n",
              "    width: 32px;\n",
              "  }\n",
              "\n",
              "  .colab-df-quickchart:hover {\n",
              "    background-color: var(--hover-bg-color);\n",
              "    box-shadow: 0 1px 2px rgba(60, 64, 67, 0.3), 0 1px 3px 1px rgba(60, 64, 67, 0.15);\n",
              "    fill: var(--button-hover-fill-color);\n",
              "  }\n",
              "\n",
              "  .colab-df-quickchart-complete:disabled,\n",
              "  .colab-df-quickchart-complete:disabled:hover {\n",
              "    background-color: var(--disabled-bg-color);\n",
              "    fill: var(--disabled-fill-color);\n",
              "    box-shadow: none;\n",
              "  }\n",
              "\n",
              "  .colab-df-spinner {\n",
              "    border: 2px solid var(--fill-color);\n",
              "    border-color: transparent;\n",
              "    border-bottom-color: var(--fill-color);\n",
              "    animation:\n",
              "      spin 1s steps(1) infinite;\n",
              "  }\n",
              "\n",
              "  @keyframes spin {\n",
              "    0% {\n",
              "      border-color: transparent;\n",
              "      border-bottom-color: var(--fill-color);\n",
              "      border-left-color: var(--fill-color);\n",
              "    }\n",
              "    20% {\n",
              "      border-color: transparent;\n",
              "      border-left-color: var(--fill-color);\n",
              "      border-top-color: var(--fill-color);\n",
              "    }\n",
              "    30% {\n",
              "      border-color: transparent;\n",
              "      border-left-color: var(--fill-color);\n",
              "      border-top-color: var(--fill-color);\n",
              "      border-right-color: var(--fill-color);\n",
              "    }\n",
              "    40% {\n",
              "      border-color: transparent;\n",
              "      border-right-color: var(--fill-color);\n",
              "      border-top-color: var(--fill-color);\n",
              "    }\n",
              "    60% {\n",
              "      border-color: transparent;\n",
              "      border-right-color: var(--fill-color);\n",
              "    }\n",
              "    80% {\n",
              "      border-color: transparent;\n",
              "      border-right-color: var(--fill-color);\n",
              "      border-bottom-color: var(--fill-color);\n",
              "    }\n",
              "    90% {\n",
              "      border-color: transparent;\n",
              "      border-bottom-color: var(--fill-color);\n",
              "    }\n",
              "  }\n",
              "</style>\n",
              "\n",
              "  <script>\n",
              "    async function quickchart(key) {\n",
              "      const quickchartButtonEl =\n",
              "        document.querySelector('#' + key + ' button');\n",
              "      quickchartButtonEl.disabled = true;  // To prevent multiple clicks.\n",
              "      quickchartButtonEl.classList.add('colab-df-spinner');\n",
              "      try {\n",
              "        const charts = await google.colab.kernel.invokeFunction(\n",
              "            'suggestCharts', [key], {});\n",
              "      } catch (error) {\n",
              "        console.error('Error during call to suggestCharts:', error);\n",
              "      }\n",
              "      quickchartButtonEl.classList.remove('colab-df-spinner');\n",
              "      quickchartButtonEl.classList.add('colab-df-quickchart-complete');\n",
              "    }\n",
              "    (() => {\n",
              "      let quickchartButtonEl =\n",
              "        document.querySelector('#df-456d2e98-c3cd-40f8-8391-11bb6db98b61 button');\n",
              "      quickchartButtonEl.style.display =\n",
              "        google.colab.kernel.accessAllowed ? 'block' : 'none';\n",
              "    })();\n",
              "  </script>\n",
              "</div>\n",
              "    </div>\n",
              "  </div>\n"
            ]
          },
          "metadata": {},
          "execution_count": 51
        }
      ]
    },
    {
      "cell_type": "code",
      "source": [],
      "metadata": {
        "id": "bd11UyIaMzum"
      },
      "execution_count": null,
      "outputs": []
    }
  ]
}