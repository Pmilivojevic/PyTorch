{
  "nbformat": 4,
  "nbformat_minor": 0,
  "metadata": {
    "colab": {
      "provenance": [],
      "authorship_tag": "ABX9TyO/W8G/+FCVc5uLkLGShiIq",
      "include_colab_link": true
    },
    "kernelspec": {
      "name": "python3",
      "display_name": "Python 3"
    },
    "language_info": {
      "name": "python"
    }
  },
  "cells": [
    {
      "cell_type": "markdown",
      "metadata": {
        "id": "view-in-github",
        "colab_type": "text"
      },
      "source": [
        "<a href=\"https://colab.research.google.com/github/Pmilivojevic/PyTorch/blob/main/ElmanRNN.ipynb\" target=\"_parent\"><img src=\"https://colab.research.google.com/assets/colab-badge.svg\" alt=\"Open In Colab\"/></a>"
      ]
    },
    {
      "cell_type": "code",
      "execution_count": null,
      "metadata": {
        "id": "aJPW00sWmnWR"
      },
      "outputs": [],
      "source": [
        "import torch\n",
        "from torch import nn"
      ]
    },
    {
      "cell_type": "code",
      "source": [
        "class ElmanRNN(nn.Module):\n",
        "  def __init__(self, input_size, hidden_size, num_layers):\n",
        "    super().__init__()\n",
        "\n",
        "    self.rnn = nn.RNN(input_size, hidden_size, num_layers, batch_first=True, bidirectional=False)\n",
        "\n",
        "  def forward(self, x, hidd):\n",
        "    return self.rnn(x, hidd)"
      ],
      "metadata": {
        "id": "Wlu7-j_rm1xo"
      },
      "execution_count": null,
      "outputs": []
    },
    {
      "cell_type": "code",
      "source": [
        "class LSTMNet(nn.Module):\n",
        "  def __init__(self, input_size, hidden_size, num_layers):\n",
        "    super().__init__()\n",
        "\n",
        "    self.lstm = nn.LSTM(input_size, hidden_size, num_layers, batch_first=True, bidirectional=False)\n",
        "\n",
        "  def forward(self, x, hidd):\n",
        "    return self.lstm(x, hidd)"
      ],
      "metadata": {
        "id": "xiI_1NiPzkM-"
      },
      "execution_count": null,
      "outputs": []
    },
    {
      "cell_type": "code",
      "source": [
        "feature_size = 2\n",
        "seq_length = 3\n",
        "batch_size = 4\n",
        "\n",
        "n_layers = 1\n",
        "h_size = 5"
      ],
      "metadata": {
        "id": "93A6RP9XpN0V"
      },
      "execution_count": null,
      "outputs": []
    },
    {
      "cell_type": "code",
      "source": [
        "model1 = ElmanRNN(feature_size, h_size, n_layers)\n",
        "model2 = LSTMNet(feature_size, h_size, n_layers)"
      ],
      "metadata": {
        "id": "XDmhVkbWrXCv"
      },
      "execution_count": null,
      "outputs": []
    },
    {
      "cell_type": "code",
      "source": [
        "inp = torch.randn(batch_size, seq_length, feature_size)\n",
        "hidd = torch.zeros(n_layers, batch_size, h_size)\n",
        "out1, hidd1 = model1(inp, hidd)\n",
        "out2, (sh, ln) = model2(inp, (hidd, hidd))"
      ],
      "metadata": {
        "id": "iLisjjibrmHV"
      },
      "execution_count": null,
      "outputs": []
    },
    {
      "cell_type": "code",
      "source": [
        "print(out2)\n",
        "print(ln)"
      ],
      "metadata": {
        "colab": {
          "base_uri": "https://localhost:8080/"
        },
        "id": "vjzRdHjsr_0Q",
        "outputId": "07915be2-65ae-4f0b-ca39-e9afe4a16710"
      },
      "execution_count": null,
      "outputs": [
        {
          "output_type": "stream",
          "name": "stdout",
          "text": [
            "tensor([[[-0.2599, -0.0625,  0.1591,  0.1465,  0.0997],\n",
            "         [-0.1892, -0.1433,  0.1917,  0.1370,  0.0751],\n",
            "         [-0.2196, -0.1430,  0.2165,  0.1821,  0.1975]],\n",
            "\n",
            "        [[-0.0313, -0.0860,  0.0971,  0.0992,  0.1357],\n",
            "         [-0.0702, -0.1375,  0.1560,  0.1369,  0.1809],\n",
            "         [-0.0929, -0.1862,  0.2069,  0.0369,  0.0315]],\n",
            "\n",
            "        [[ 0.0261, -0.0104,  0.1016, -0.0238,  0.0007],\n",
            "         [ 0.0081, -0.0795,  0.1467,  0.0662,  0.1117],\n",
            "         [-0.0382, -0.1267,  0.1734,  0.1218,  0.1653]],\n",
            "\n",
            "        [[-0.1110, -0.0725,  0.1672, -0.0488, -0.1152],\n",
            "         [-0.1229, -0.1263,  0.1885,  0.0957,  0.1339],\n",
            "         [-0.1273, -0.1686,  0.1976,  0.1371,  0.1725]]],\n",
            "       grad_fn=<TransposeBackward0>)\n",
            "tensor([[[-0.3317, -0.5849,  0.3405,  0.3612,  0.6031],\n",
            "         [-0.1599, -0.5219,  0.4933,  0.0853,  0.0517],\n",
            "         [-0.0619, -0.3816,  0.3484,  0.2492,  0.4426],\n",
            "         [-0.2057, -0.5436,  0.3810,  0.2905,  0.3999]]],\n",
            "       grad_fn=<StackBackward0>)\n"
          ]
        }
      ]
    },
    {
      "cell_type": "code",
      "source": [],
      "metadata": {
        "id": "We_5sGKJsG02"
      },
      "execution_count": null,
      "outputs": []
    }
  ]
}