{
  "nbformat": 4,
  "nbformat_minor": 0,
  "metadata": {
    "colab": {
      "provenance": [],
      "authorship_tag": "ABX9TyMsg6lB8eeSbUBFKvcjx9Tv",
      "include_colab_link": true
    },
    "kernelspec": {
      "name": "python3",
      "display_name": "Python 3"
    },
    "language_info": {
      "name": "python"
    }
  },
  "cells": [
    {
      "cell_type": "markdown",
      "metadata": {
        "id": "view-in-github",
        "colab_type": "text"
      },
      "source": [
        "<a href=\"https://colab.research.google.com/github/Pmilivojevic/PyTorch/blob/main/GoogLeNet.ipynb\" target=\"_parent\"><img src=\"https://colab.research.google.com/assets/colab-badge.svg\" alt=\"Open In Colab\"/></a>"
      ]
    },
    {
      "cell_type": "code",
      "execution_count": null,
      "metadata": {
        "id": "xr6JBK8__P6q"
      },
      "outputs": [],
      "source": [
        "import torch\n",
        "import torch.nn as nn\n",
        "import torch.optim as optim\n",
        "import torch.nn.functional as F\n",
        "from torch.utils.data import DataLoader\n",
        "import torchvision.datasets as datasets\n",
        "import torchvision.transforms as transforms\n",
        "from torch.nn.modules import padding\n",
        "\n",
        "device = 'cuda' if torch.cuda.is_available() else 'cpu'"
      ]
    },
    {
      "cell_type": "code",
      "source": [
        "class ConvBlock(nn.Module):\n",
        "  def __init__(self, in_channels, out_channels, **kwargs):\n",
        "    super(ConvBlock, self).__init__()\n",
        "\n",
        "    self.relu = nn.ReLU()\n",
        "    self.conv = nn.Conv2d(in_channels, out_channels, **kwargs)\n",
        "    self.batchnorm = nn.BatchNorm2d(out_channels)\n",
        "\n",
        "  def forward(self, x):\n",
        "    return self.relu(self.batchnorm(self.conv(x)))"
      ],
      "metadata": {
        "id": "n6DFdVhW_Yue"
      },
      "execution_count": null,
      "outputs": []
    },
    {
      "cell_type": "code",
      "source": [
        "class InceptionBlock(nn.Module):\n",
        "  def __init__(\n",
        "      self,\n",
        "      in_channels,\n",
        "      out_1x1,\n",
        "      red_3x3,\n",
        "      out_3x3,\n",
        "      red_5x5,\n",
        "      out_5x5,\n",
        "      out_1x1_pool\n",
        "  ):\n",
        "    super(InceptionBlock, self).__init__()\n",
        "\n",
        "    self.branch1 = ConvBlock(in_channels, out_1x1, kernel_size=1)\n",
        "\n",
        "    self.branch2 = nn.Sequential(\n",
        "        ConvBlock(in_channels, red_3x3, kernel_size=1),\n",
        "        ConvBlock(red_3x3, out_3x3, kernel_size=3, padding=1)\n",
        "    )\n",
        "\n",
        "    self.branch3 = nn.Sequential(\n",
        "        ConvBlock(in_channels, red_5x5, kernel_size=1),\n",
        "        ConvBlock(red_5x5, out_5x5, kernel_size=5, padding=2)\n",
        "    )\n",
        "\n",
        "    self.branch4 = nn.Sequential(\n",
        "        nn.MaxPool2d(kernel_size=3, stride=1, padding=1),\n",
        "        ConvBlock(in_channels, out_1x1_pool, kernel_size=1)\n",
        "    )\n",
        "\n",
        "  def forward(self, x):\n",
        "    return torch.cat([\n",
        "        self.branch1(x),\n",
        "        self.branch2(x),\n",
        "        self.branch3(x),\n",
        "        self.branch4(x)\n",
        "      ],\n",
        "      1\n",
        "    )"
      ],
      "metadata": {
        "id": "PFiyPvK-Bc7N"
      },
      "execution_count": null,
      "outputs": []
    },
    {
      "cell_type": "code",
      "source": [
        "class GoogLeNet(nn.Module):\n",
        "  def __init__(self, in_channels=3, num_classes=1000):\n",
        "    super(GoogLeNet, self).__init__()\n",
        "\n",
        "    self.conv1 = ConvBlock(\n",
        "        in_channels=in_channels,\n",
        "        out_channels=64,\n",
        "        kernel_size=7,\n",
        "        stride=2,\n",
        "        padding=3\n",
        "    )\n",
        "\n",
        "    self.max_pool = nn.MaxPool2d(kernel_size=3, stride=2, padding=1)\n",
        "\n",
        "    self.conv2 = ConvBlock(in_channels=64, out_channels=192, kernel_size=3, stride=1, padding=1)\n",
        "\n",
        "    self.inception3a = InceptionBlock(192, 64, 96, 128, 16, 32, 32)\n",
        "    self.inception3b = InceptionBlock(256, 128, 128, 192, 32, 96, 64)\n",
        "\n",
        "    self.inception4a = InceptionBlock(480, 192, 96, 208, 16, 48, 64)\n",
        "    self.inception4b = InceptionBlock(512, 160, 112, 224, 24, 64, 64)\n",
        "    self.inception4c = InceptionBlock(512, 128, 128, 256, 24, 64, 64)\n",
        "    self.inception4d = InceptionBlock(512, 112, 144, 288, 32, 64, 64)\n",
        "    self.inception4e = InceptionBlock(528, 256, 160, 320, 32, 128, 128)\n",
        "\n",
        "    self.inception5a = InceptionBlock(832, 256, 160, 320, 32, 128, 128)\n",
        "    self.inception5b = InceptionBlock(832, 384, 192, 384, 48, 128, 128)\n",
        "\n",
        "    self.avg_pool = nn.AvgPool2d(kernel_size=7, stride=1)\n",
        "\n",
        "    self.drop = nn.Dropout(0.4)\n",
        "\n",
        "    self.fc = nn.Linear(1024, num_classes, )\n",
        "\n",
        "  def forward(self, x):\n",
        "    x = self.conv1(x)\n",
        "    x = self.max_pool(x)\n",
        "    x = self.conv2(x)\n",
        "    x = self.max_pool(x)\n",
        "\n",
        "    x = self.inception3a(x)\n",
        "    x = self.inception3b(x)\n",
        "    x = self.max_pool(x)\n",
        "\n",
        "    x = self.inception4a(x)\n",
        "    x = self.inception4b(x)\n",
        "    x = self.inception4c(x)\n",
        "    x = self.inception4d(x)\n",
        "    x = self.inception4e(x)\n",
        "    x = self.max_pool(x)\n",
        "\n",
        "    x = self.inception5a(x)\n",
        "    x = self.inception5b(x)\n",
        "    x = self.avg_pool(x)\n",
        "    x = x.reshape(x.shape[0], -1)\n",
        "\n",
        "    x = self.drop(x)\n",
        "    x = self.fc(x)\n",
        "\n",
        "    return x"
      ],
      "metadata": {
        "id": "8y_XZQUyH3Q7"
      },
      "execution_count": null,
      "outputs": []
    },
    {
      "cell_type": "code",
      "source": [
        "model = GoogLeNet()\n",
        "x = torch.randn(3, 3, 224, 224)\n",
        "print(model(x).shape)"
      ],
      "metadata": {
        "colab": {
          "base_uri": "https://localhost:8080/"
        },
        "id": "7hSpN9u0kZ_I",
        "outputId": "6d57bf5f-1616-42c5-a0e9-ab10f7030bb6"
      },
      "execution_count": null,
      "outputs": [
        {
          "output_type": "stream",
          "name": "stdout",
          "text": [
            "torch.Size([3, 1000])\n"
          ]
        }
      ]
    },
    {
      "cell_type": "code",
      "source": [],
      "metadata": {
        "id": "H8KD5mTglSJl"
      },
      "execution_count": null,
      "outputs": []
    }
  ]
}