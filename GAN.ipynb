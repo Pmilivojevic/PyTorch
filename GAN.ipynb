{
  "nbformat": 4,
  "nbformat_minor": 0,
  "metadata": {
    "colab": {
      "provenance": [],
      "authorship_tag": "ABX9TyM9ipg3EdBnW+3efuehgrmt",
      "include_colab_link": true
    },
    "kernelspec": {
      "name": "python3",
      "display_name": "Python 3"
    },
    "language_info": {
      "name": "python"
    }
  },
  "cells": [
    {
      "cell_type": "markdown",
      "metadata": {
        "id": "view-in-github",
        "colab_type": "text"
      },
      "source": [
        "<a href=\"https://colab.research.google.com/github/Pmilivojevic/PyTorch/blob/main/GAN.ipynb\" target=\"_parent\"><img src=\"https://colab.research.google.com/assets/colab-badge.svg\" alt=\"Open In Colab\"/></a>"
      ]
    },
    {
      "cell_type": "code",
      "execution_count": null,
      "metadata": {
        "id": "Ubb6SrnvkA0x"
      },
      "outputs": [],
      "source": [
        "import torch\n",
        "import torch.nn as nn\n",
        "import torch.optim as optim\n",
        "import torchvision\n",
        "import torchvision.datasets as datasets\n",
        "from torch.utils.data import DataLoader\n",
        "import torchvision.transforms as transforms\n",
        "from torch.utils.tensorboard import SummaryWriter\n",
        "\n",
        "device = 'cuda' if torch.cuda.is_available() else 'cpu'"
      ]
    },
    {
      "cell_type": "code",
      "source": [
        "class Discriminator(nn.Module):\n",
        "  def __init__(self, im_dim):\n",
        "    super().__init__()\n",
        "\n",
        "    self.fc1 = nn.Linear(im_dim, 128)\n",
        "    self.non_lin1 = nn.LeakyReLU(0.1)\n",
        "    self.fc2 = nn.Linear(128, 1)\n",
        "    self.non_lin2 = nn.Sigmoid()\n",
        "\n",
        "  def forward(self, x):\n",
        "    x = self.non_lin1(self.fc1(x))\n",
        "\n",
        "    return self.non_lin2(self.fc2(x))"
      ],
      "metadata": {
        "id": "uNaph_i7lxDW"
      },
      "execution_count": null,
      "outputs": []
    },
    {
      "cell_type": "code",
      "source": [
        "class Generator(nn.Module):\n",
        "  def __init__(self, z_dim, im_dim):\n",
        "    super().__init__()\n",
        "\n",
        "    self.fc1 = nn.Linear(z_dim, 256)\n",
        "    self.non_lin1 = nn.LeakyReLU(0.1)\n",
        "    self.fc2 = nn.Linear(256, im_dim)\n",
        "    self.non_lin2 = nn.Tanh()\n",
        "\n",
        "  def forward(self, x):\n",
        "    x = self.non_lin1(self.fc1(x))\n",
        "\n",
        "    return self.non_lin2(self.fc2(x))"
      ],
      "metadata": {
        "id": "BqGwsfDmqPJ9"
      },
      "execution_count": null,
      "outputs": []
    },
    {
      "cell_type": "code",
      "source": [
        "lr = 3e-4\n",
        "z_dim = 64\n",
        "im_dim = 784\n",
        "batch_size = 32\n",
        "num_epochs =  50\n",
        "\n",
        "disc = Discriminator(im_dim).to(device)\n",
        "gen = Generator(z_dim, im_dim).to(device)\n",
        "fixed_noise = torch.randn(batch_size, z_dim).to(device)\n",
        "transforms = transforms.Compose(\n",
        "    [\n",
        "        transforms.ToTensor(),\n",
        "        transforms.Normalize((0.1307,), (0.3081,))\n",
        "    ]\n",
        ")\n",
        "\n",
        "train_dataset = datasets.MNIST(\n",
        "    root='/content/drive/MyDrive/Colab Notebooks/Dataset',\n",
        "    transform=transforms,\n",
        "    download=True\n",
        ")\n",
        "train_loader = DataLoader(dataset=train_dataset, batch_size=batch_size, shuffle=True)\n",
        "\n",
        "opt_disc = optim.Adam(disc.parameters(), lr=lr)\n",
        "opt_gen = optim.Adam(gen.parameters(), lr=lr)\n",
        "criterion = nn.BCELoss()\n",
        "writer_fake = SummaryWriter(f\"runs/GAN_MNIST/fake\")\n",
        "writer_real = SummaryWriter(f\"runs/GAN_MNIST/real\")"
      ],
      "metadata": {
        "colab": {
          "base_uri": "https://localhost:8080/"
        },
        "id": "saeSlSbVqTgf",
        "outputId": "98f5af32-3adb-48be-bcfd-832af66e0675"
      },
      "execution_count": null,
      "outputs": [
        {
          "output_type": "stream",
          "name": "stdout",
          "text": [
            "Downloading http://yann.lecun.com/exdb/mnist/train-images-idx3-ubyte.gz\n",
            "Downloading http://yann.lecun.com/exdb/mnist/train-images-idx3-ubyte.gz to /content/drive/MyDrive/Colab Notebooks/Dataset/MNIST/raw/train-images-idx3-ubyte.gz\n"
          ]
        },
        {
          "output_type": "stream",
          "name": "stderr",
          "text": [
            "100%|██████████| 9912422/9912422 [00:00<00:00, 148212607.02it/s]"
          ]
        },
        {
          "output_type": "stream",
          "name": "stdout",
          "text": [
            "Extracting /content/drive/MyDrive/Colab Notebooks/Dataset/MNIST/raw/train-images-idx3-ubyte.gz to /content/drive/MyDrive/Colab Notebooks/Dataset/MNIST/raw\n"
          ]
        },
        {
          "output_type": "stream",
          "name": "stderr",
          "text": [
            "\n"
          ]
        },
        {
          "output_type": "stream",
          "name": "stdout",
          "text": [
            "\n",
            "Downloading http://yann.lecun.com/exdb/mnist/train-labels-idx1-ubyte.gz\n",
            "Downloading http://yann.lecun.com/exdb/mnist/train-labels-idx1-ubyte.gz to /content/drive/MyDrive/Colab Notebooks/Dataset/MNIST/raw/train-labels-idx1-ubyte.gz\n"
          ]
        },
        {
          "output_type": "stream",
          "name": "stderr",
          "text": [
            "100%|██████████| 28881/28881 [00:00<00:00, 93324879.68it/s]\n"
          ]
        },
        {
          "output_type": "stream",
          "name": "stdout",
          "text": [
            "Extracting /content/drive/MyDrive/Colab Notebooks/Dataset/MNIST/raw/train-labels-idx1-ubyte.gz to /content/drive/MyDrive/Colab Notebooks/Dataset/MNIST/raw\n",
            "\n",
            "Downloading http://yann.lecun.com/exdb/mnist/t10k-images-idx3-ubyte.gz\n",
            "Downloading http://yann.lecun.com/exdb/mnist/t10k-images-idx3-ubyte.gz to /content/drive/MyDrive/Colab Notebooks/Dataset/MNIST/raw/t10k-images-idx3-ubyte.gz\n"
          ]
        },
        {
          "output_type": "stream",
          "name": "stderr",
          "text": [
            "100%|██████████| 1648877/1648877 [00:00<00:00, 33411233.21it/s]"
          ]
        },
        {
          "output_type": "stream",
          "name": "stdout",
          "text": [
            "Extracting /content/drive/MyDrive/Colab Notebooks/Dataset/MNIST/raw/t10k-images-idx3-ubyte.gz to /content/drive/MyDrive/Colab Notebooks/Dataset/MNIST/raw\n"
          ]
        },
        {
          "output_type": "stream",
          "name": "stderr",
          "text": [
            "\n"
          ]
        },
        {
          "output_type": "stream",
          "name": "stdout",
          "text": [
            "\n",
            "Downloading http://yann.lecun.com/exdb/mnist/t10k-labels-idx1-ubyte.gz\n",
            "Downloading http://yann.lecun.com/exdb/mnist/t10k-labels-idx1-ubyte.gz to /content/drive/MyDrive/Colab Notebooks/Dataset/MNIST/raw/t10k-labels-idx1-ubyte.gz\n"
          ]
        },
        {
          "output_type": "stream",
          "name": "stderr",
          "text": [
            "100%|██████████| 4542/4542 [00:00<00:00, 19741480.59it/s]\n"
          ]
        },
        {
          "output_type": "stream",
          "name": "stdout",
          "text": [
            "Extracting /content/drive/MyDrive/Colab Notebooks/Dataset/MNIST/raw/t10k-labels-idx1-ubyte.gz to /content/drive/MyDrive/Colab Notebooks/Dataset/MNIST/raw\n",
            "\n"
          ]
        }
      ]
    },
    {
      "cell_type": "code",
      "source": [
        "for epoch in range(num_epochs):\n",
        "  for batch_ind, (real, _) in enumerate(train_loader):\n",
        "    real = real.view(-1, 784).to(device)\n",
        "    batch_size = real.shape[0]\n",
        "\n",
        "    noise = torch.randn(batch_size, z_dim).to(device)\n",
        "    fake = gen(noise)\n",
        "    disc_real = disc(real).view(-1)\n",
        "    lossDreal = criterion(disc_real, torch.ones_like(disc_real))\n",
        "    disc_fake = disc(fake).view(-1)\n",
        "    lossDfake = criterion(disc_fake, torch.zeros_like(disc_fake))\n",
        "    lossD = (lossDreal + lossDfake)/2\n",
        "    disc.zero_grad()\n",
        "    lossD.backward(retain_graph=True)\n",
        "    opt_disc.step()\n",
        "\n",
        "    output = disc(fake).view(-1)\n",
        "    lossG = criterion(output, torch.ones_like(output))\n",
        "    gen.zero_grad()\n",
        "    lossG.backward()\n",
        "    opt_gen.step()"
      ],
      "metadata": {
        "id": "EDQZQVfey_8M"
      },
      "execution_count": null,
      "outputs": []
    },
    {
      "cell_type": "code",
      "source": [],
      "metadata": {
        "id": "3cuEVWMF8qnT"
      },
      "execution_count": null,
      "outputs": []
    }
  ]
}