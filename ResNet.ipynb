{
  "nbformat": 4,
  "nbformat_minor": 0,
  "metadata": {
    "colab": {
      "provenance": [],
      "authorship_tag": "ABX9TyPACJlzWpAwmcKl4H2y+I4c",
      "include_colab_link": true
    },
    "kernelspec": {
      "name": "python3",
      "display_name": "Python 3"
    },
    "language_info": {
      "name": "python"
    }
  },
  "cells": [
    {
      "cell_type": "markdown",
      "metadata": {
        "id": "view-in-github",
        "colab_type": "text"
      },
      "source": [
        "<a href=\"https://colab.research.google.com/github/Pmilivojevic/PyTorch/blob/main/ResNet.ipynb\" target=\"_parent\"><img src=\"https://colab.research.google.com/assets/colab-badge.svg\" alt=\"Open In Colab\"/></a>"
      ]
    },
    {
      "cell_type": "code",
      "execution_count": null,
      "metadata": {
        "id": "3ZfezBmSvu6h"
      },
      "outputs": [],
      "source": [
        "import torch\n",
        "import torch.nn as nn\n",
        "import torch.optim as optim\n",
        "import torch.nn.functional as F\n",
        "from torch.utils.data import DataLoader\n",
        "import torchvision.datasets as datasets\n",
        "import torchvision.transforms as transforms\n",
        "from torch.nn.modules import padding\n",
        "\n",
        "device = 'cuda' if torch.cuda.is_available() else 'cpu'"
      ]
    },
    {
      "cell_type": "code",
      "source": [
        "class ResBlock(nn.Module):\n",
        "  def __init__(\n",
        "      self,\n",
        "      in_channels=64,\n",
        "      out_channels=64,\n",
        "      identity_downsampling=None,\n",
        "      stride=1\n",
        "  ):\n",
        "    super(ResBlock, self).__init__()\n",
        "\n",
        "    self.expansion = 4\n",
        "    self.identity_downsampling = identity_downsampling\n",
        "\n",
        "    self.conv1 = nn.Conv2d(\n",
        "        in_channels,\n",
        "        out_channels,\n",
        "        kernel_size=1,\n",
        "        stride=1,\n",
        "        padding=0\n",
        "    )\n",
        "    self.conv2 = nn.Conv2d(\n",
        "        out_channels,\n",
        "        out_channels,\n",
        "        kernel_size=3,\n",
        "        stride=stride,\n",
        "        padding=1\n",
        "    )\n",
        "    self.conv3 = nn.Conv2d(\n",
        "        out_channels,\n",
        "        out_channels*self.expansion,\n",
        "        kernel_size=1,\n",
        "        stride=1,\n",
        "        padding=0\n",
        "    )\n",
        "\n",
        "    self.bn1 = nn.BatchNorm2d(out_channels)\n",
        "    self.bn2 = nn.BatchNorm2d(out_channels*self.expansion)\n",
        "\n",
        "    self.relu = nn.ReLU()\n",
        "\n",
        "  def forward(self, x):\n",
        "    identity = x.clone()\n",
        "\n",
        "    x = self.conv1(x)\n",
        "    x = self.bn1(x)\n",
        "    x = self.conv2(x)\n",
        "    x = self.bn1(x)\n",
        "    x = self.conv3(x)\n",
        "    x = self.bn2(x)\n",
        "\n",
        "    if self.identity_downsampling is not None:\n",
        "      identity = self.identity_downsampling(identity)\n",
        "\n",
        "    x += identity\n",
        "    x = self.relu(x)\n",
        "\n",
        "    return x"
      ],
      "metadata": {
        "id": "0aqAnk27v1ZI"
      },
      "execution_count": null,
      "outputs": []
    },
    {
      "cell_type": "code",
      "source": [
        "class ResNet(nn.Module):\n",
        "  def __init__(self, block, layers, image_channels=3, num_classes=1000):\n",
        "    super(ResNet, self).__init__()\n",
        "\n",
        "    self.in_channels = 64\n",
        "\n",
        "    self.conv1 = nn.Conv2d(\n",
        "        image_channels,\n",
        "        64,\n",
        "        kernel_size=7,\n",
        "        stride=2,\n",
        "        padding=3\n",
        "    )\n",
        "    self.bn = nn.BatchNorm2d(64)\n",
        "    self.relu = nn.ReLU()\n",
        "    self.maxpool = nn.MaxPool2d(kernel_size=3, stride=2, padding=1)\n",
        "\n",
        "    self.res_layer1 = self._make_layer(\n",
        "        block,\n",
        "        layers[0],\n",
        "        out_channels=64,\n",
        "        stride=1\n",
        "    )\n",
        "    self.res_layer2 = self._make_layer(\n",
        "        block,\n",
        "        layers[1],\n",
        "        out_channels=128,\n",
        "        stride=2,\n",
        "    )\n",
        "    self.res_layer3 = self._make_layer(\n",
        "        block,\n",
        "        layers[2],\n",
        "        out_channels=256,\n",
        "        stride=2\n",
        "    )\n",
        "    self.res_layer4 = self._make_layer(\n",
        "        block,\n",
        "        layers[3],\n",
        "        out_channels=512,\n",
        "        stride=2\n",
        "    )\n",
        "    self.avgpool = nn.AdaptiveAvgPool2d((1,1))\n",
        "    self.fc = nn.Linear(512*4, num_classes)\n",
        "\n",
        "  def _make_layer(self, block, num_res_blocks, out_channels, stride):\n",
        "    identity_downsampling = None\n",
        "    layers = []\n",
        "\n",
        "    if stride != 1 or self.in_channels != out_channels*4:\n",
        "      identity_downsampling = nn.Sequential(\n",
        "          nn.Conv2d(\n",
        "              self.in_channels,\n",
        "              out_channels*4,\n",
        "              kernel_size=1,\n",
        "              stride=stride\n",
        "          ),\n",
        "          nn.BatchNorm2d(out_channels*4)\n",
        "      )\n",
        "\n",
        "      layers.append(block(\n",
        "          self.in_channels,\n",
        "          out_channels,\n",
        "          identity_downsampling,\n",
        "          stride\n",
        "      ))\n",
        "\n",
        "      self.in_channels = out_channels*4\n",
        "\n",
        "    for i in range(num_res_blocks-1):\n",
        "      layers.append(block(self.in_channels, out_channels))\n",
        "\n",
        "    return nn.Sequential(*layers)\n",
        "\n",
        "  def forward(self, x):\n",
        "    x = self.conv1(x)\n",
        "    x = self.bn(x)\n",
        "    x = self.relu(x)\n",
        "    x = self.maxpool(x)\n",
        "\n",
        "    x = self.res_layer1(x)\n",
        "    x = self.res_layer2(x)\n",
        "    x = self.res_layer3(x)\n",
        "    x = self.res_layer4(x)\n",
        "\n",
        "    x = self.avgpool(x)\n",
        "    x = x.reshape(x.shape[0], -1)\n",
        "    x = self.fc(x)\n",
        "\n",
        "    return x"
      ],
      "metadata": {
        "id": "ePHzauA6cA40"
      },
      "execution_count": null,
      "outputs": []
    },
    {
      "cell_type": "code",
      "source": [
        "resnet50_conf = [3, 4, 6, 3]\n",
        "resnet101_conf = [3, 4, 23, 3]\n",
        "resnet152_conf = [3, 4, 36, 3]\n",
        "\n",
        "model = ResNet(ResBlock, resnet152_conf)\n",
        "x = torch.randn(2, 3, 224, 224)\n",
        "print(model(x).shape)"
      ],
      "metadata": {
        "id": "J1l3ZgKI3nUi",
        "colab": {
          "base_uri": "https://localhost:8080/"
        },
        "outputId": "68f55b59-f48b-4ea2-bd5c-1a3e2c1377ae"
      },
      "execution_count": null,
      "outputs": [
        {
          "output_type": "stream",
          "name": "stdout",
          "text": [
            "torch.Size([2, 1000])\n"
          ]
        }
      ]
    },
    {
      "cell_type": "code",
      "source": [],
      "metadata": {
        "id": "-9LCCGaKJQAT"
      },
      "execution_count": null,
      "outputs": []
    }
  ]
}