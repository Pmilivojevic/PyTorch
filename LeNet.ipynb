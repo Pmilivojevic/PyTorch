{
  "nbformat": 4,
  "nbformat_minor": 0,
  "metadata": {
    "colab": {
      "provenance": [],
      "gpuType": "T4",
      "authorship_tag": "ABX9TyO570Y3W8JuT5JpretEYHx2",
      "include_colab_link": true
    },
    "kernelspec": {
      "name": "python3",
      "display_name": "Python 3"
    },
    "language_info": {
      "name": "python"
    },
    "accelerator": "GPU"
  },
  "cells": [
    {
      "cell_type": "markdown",
      "metadata": {
        "id": "view-in-github",
        "colab_type": "text"
      },
      "source": [
        "<a href=\"https://colab.research.google.com/github/Pmilivojevic/PyTorch/blob/main/LeNet.ipynb\" target=\"_parent\"><img src=\"https://colab.research.google.com/assets/colab-badge.svg\" alt=\"Open In Colab\"/></a>"
      ]
    },
    {
      "cell_type": "code",
      "execution_count": null,
      "metadata": {
        "id": "T5VPyOCAYs_r"
      },
      "outputs": [],
      "source": [
        "import torch\n",
        "import torch.nn as nn\n",
        "import torch.optim as optim\n",
        "import torch.nn.functional as F\n",
        "from torch.utils.data import DataLoader\n",
        "import torchvision.datasets as datasets\n",
        "import torchvision.transforms as transforms\n",
        "\n",
        "device = 'cuda' if torch.cuda.is_available() else 'cpu'"
      ]
    },
    {
      "cell_type": "code",
      "source": [
        "num_channels = 3\n",
        "num_classes = 10\n",
        "batch_size = 1024\n",
        "lr = 0.001\n",
        "num_epochs = 50"
      ],
      "metadata": {
        "id": "7kkmiB02k7dn"
      },
      "execution_count": null,
      "outputs": []
    },
    {
      "cell_type": "code",
      "source": [
        "train_dataset = datasets.CIFAR10(\n",
        "    root='/content/drive/MyDrive/Colab Notebooks/Dataset',\n",
        "    train=True,\n",
        "    transform=transforms.ToTensor(),\n",
        "    download=True\n",
        ")\n",
        "train_loader = DataLoader(dataset=train_dataset, batch_size=batch_size, shuffle=True)\n",
        "\n",
        "test_dataset = datasets.CIFAR10(\n",
        "    root='/content/drive/MyDrive/Colab Notebooks/Dataset',\n",
        "    train=False,\n",
        "    transform=transforms.ToTensor(),\n",
        "    download=True\n",
        ")\n",
        "test_loader = DataLoader(dataset=test_dataset, batch_size=batch_size, shuffle=True)"
      ],
      "metadata": {
        "colab": {
          "base_uri": "https://localhost:8080/"
        },
        "id": "4rJBPotklMX1",
        "outputId": "3ed635e8-671f-480d-a620-9032154ef4cf"
      },
      "execution_count": null,
      "outputs": [
        {
          "output_type": "stream",
          "name": "stdout",
          "text": [
            "Files already downloaded and verified\n",
            "Files already downloaded and verified\n"
          ]
        }
      ]
    },
    {
      "cell_type": "code",
      "source": [
        "class LeNet(nn.Module):\n",
        "  def __init__(self, num_channels: int=3, num_classes: int=10):\n",
        "    super(LeNet, self).__init__()\n",
        "    self.num_channels = num_channels\n",
        "    self.num_classes = num_classes\n",
        "    self.relu = nn.ReLU()\n",
        "    self.pool = nn.AvgPool2d(kernel_size=(2,2), stride=(2,2))\n",
        "    self.conv1 = nn.Conv2d(in_channels=num_channels, out_channels=6, kernel_size=(5,5), padding=(2,2))\n",
        "    self.conv2 = nn.Conv2d(in_channels=6, out_channels=16, kernel_size=(5,5), padding=(2,2))\n",
        "    self.conv3 = nn.Conv2d(in_channels=16, out_channels=120, kernel_size=(5,5), padding=(1,1))\n",
        "    self.conv4 = nn.Conv2d(in_channels=120, out_channels=120, kernel_size=(3,3), padding=(0,0))\n",
        "    self.fc1 = nn.Linear(in_features=120, out_features=84)\n",
        "    self.fc2 = nn.Linear(in_features=84, out_features=num_classes)\n",
        "\n",
        "  def forward(self, x):\n",
        "    x = self.relu(self.conv1(x))\n",
        "    x = self.pool(x)\n",
        "    x = self.relu(self.conv2(x))\n",
        "    x = self.pool(x)\n",
        "    x = self.relu(self.conv3(x))\n",
        "    x = self.pool(x)\n",
        "    x = self.relu(self.conv4(x))\n",
        "    x = x.reshape(x.shape[0], -1)\n",
        "    x = self.relu(self.fc1(x))\n",
        "    x = self.fc2(x)\n",
        "\n",
        "    return x"
      ],
      "metadata": {
        "id": "5Vysmd3lgNsQ"
      },
      "execution_count": null,
      "outputs": []
    },
    {
      "cell_type": "code",
      "source": [
        "model = LeNet().to(device)"
      ],
      "metadata": {
        "id": "4rjfnRb6tv-v"
      },
      "execution_count": null,
      "outputs": []
    },
    {
      "cell_type": "code",
      "source": [
        "def check_accuracy(loader, model):\n",
        "  # if loader.dataset.train:\n",
        "  #   print('Training data')\n",
        "  # else:\n",
        "  #   print('Test data')\n",
        "\n",
        "  num_correct = 0\n",
        "  num_samples = 0\n",
        "  model.eval()\n",
        "\n",
        "  with torch.no_grad():\n",
        "    for x, y in loader:\n",
        "      x = x.to(device).squeeze(1)\n",
        "      y = y.to(device)\n",
        "\n",
        "      scores = model(x)\n",
        "      _, predictions = scores.max(1)\n",
        "      num_correct += (predictions == y).sum()\n",
        "      num_samples += predictions.size(0)\n",
        "\n",
        "    # print(f'{float(num_correct)/float(num_samples)*100:.2f}')\n",
        "\n",
        "  model.train()\n",
        "\n",
        "  return float(num_correct)/float(num_samples)*100"
      ],
      "metadata": {
        "id": "Why9CVCHHEG6"
      },
      "execution_count": null,
      "outputs": []
    },
    {
      "cell_type": "code",
      "source": [
        "criterion = nn.CrossEntropyLoss()\n",
        "optimizer = optim.Adam(model.parameters(), lr=lr)\n",
        "\n",
        "for epoch in range(num_epochs):\n",
        "  if epoch > 20:\n",
        "    lr = 0.0001\n",
        "    optimizer = optim.Adam(model.parameters(), lr=lr)\n",
        "\n",
        "  for batch_ind, (data, targets) in enumerate(train_loader):\n",
        "    data = data.to(device).squeeze(1)\n",
        "    targets = targets.to(device)\n",
        "\n",
        "    scores = model(data)\n",
        "    loss = criterion(scores, targets)\n",
        "\n",
        "    optimizer.zero_grad()\n",
        "    loss.backward()\n",
        "\n",
        "    optimizer.step()\n",
        "  print(f'{epoch} Train acc: {check_accuracy(train_loader, model):.2f}, Validation acc: {check_accuracy(test_loader, model):.2f}')"
      ],
      "metadata": {
        "colab": {
          "base_uri": "https://localhost:8080/"
        },
        "id": "GYKb1jURmG2Z",
        "outputId": "4fcab879-b65b-4fb0-c4b7-4fc63db1dc59"
      },
      "execution_count": null,
      "outputs": [
        {
          "output_type": "stream",
          "name": "stdout",
          "text": [
            "0 Trayn acc: 39.91, Validation acc: 40.12\n",
            "1 Trayn acc: 42.16, Validation acc: 42.42\n",
            "2 Trayn acc: 43.23, Validation acc: 43.86\n",
            "3 Trayn acc: 44.69, Validation acc: 45.05\n",
            "4 Trayn acc: 46.23, Validation acc: 46.36\n",
            "5 Trayn acc: 47.22, Validation acc: 47.27\n",
            "6 Trayn acc: 47.16, Validation acc: 47.46\n",
            "7 Trayn acc: 48.85, Validation acc: 48.93\n",
            "8 Trayn acc: 50.47, Validation acc: 50.26\n",
            "9 Trayn acc: 49.84, Validation acc: 49.63\n",
            "10 Trayn acc: 52.19, Validation acc: 51.50\n",
            "11 Trayn acc: 52.53, Validation acc: 52.10\n",
            "12 Trayn acc: 52.75, Validation acc: 52.13\n",
            "13 Trayn acc: 53.38, Validation acc: 52.42\n",
            "14 Trayn acc: 54.18, Validation acc: 53.16\n",
            "15 Trayn acc: 55.93, Validation acc: 54.43\n",
            "16 Trayn acc: 55.68, Validation acc: 54.52\n",
            "17 Trayn acc: 56.49, Validation acc: 55.33\n",
            "18 Trayn acc: 57.35, Validation acc: 55.63\n",
            "19 Trayn acc: 57.02, Validation acc: 55.32\n",
            "20 Trayn acc: 59.06, Validation acc: 56.95\n",
            "21 Trayn acc: 59.51, Validation acc: 57.35\n",
            "22 Trayn acc: 59.73, Validation acc: 57.65\n",
            "23 Trayn acc: 59.83, Validation acc: 57.64\n",
            "24 Trayn acc: 59.92, Validation acc: 57.66\n",
            "25 Trayn acc: 59.85, Validation acc: 57.72\n",
            "26 Trayn acc: 60.14, Validation acc: 57.61\n",
            "27 Trayn acc: 60.05, Validation acc: 57.52\n",
            "28 Trayn acc: 60.20, Validation acc: 57.82\n",
            "29 Trayn acc: 60.26, Validation acc: 57.96\n",
            "30 Trayn acc: 60.42, Validation acc: 57.88\n",
            "31 Trayn acc: 60.35, Validation acc: 57.99\n",
            "32 Trayn acc: 60.46, Validation acc: 58.11\n",
            "33 Trayn acc: 60.62, Validation acc: 57.98\n",
            "34 Trayn acc: 60.72, Validation acc: 58.13\n",
            "35 Trayn acc: 60.72, Validation acc: 58.09\n",
            "36 Trayn acc: 60.69, Validation acc: 58.25\n",
            "37 Trayn acc: 60.91, Validation acc: 58.12\n",
            "38 Trayn acc: 60.90, Validation acc: 58.20\n",
            "39 Trayn acc: 61.12, Validation acc: 58.58\n",
            "40 Trayn acc: 61.13, Validation acc: 58.30\n",
            "41 Trayn acc: 60.99, Validation acc: 58.35\n",
            "42 Trayn acc: 61.04, Validation acc: 58.41\n",
            "43 Trayn acc: 61.27, Validation acc: 58.77\n",
            "44 Trayn acc: 61.40, Validation acc: 58.50\n",
            "45 Trayn acc: 61.17, Validation acc: 58.60\n",
            "46 Trayn acc: 61.63, Validation acc: 58.83\n",
            "47 Trayn acc: 61.64, Validation acc: 58.89\n",
            "48 Trayn acc: 61.77, Validation acc: 59.03\n",
            "49 Trayn acc: 61.78, Validation acc: 58.82\n"
          ]
        }
      ]
    },
    {
      "cell_type": "code",
      "source": [
        "def check_accuracy(loader, model):\n",
        "  # if loader.dataset.train:\n",
        "  #   print('Training data')\n",
        "  # else:\n",
        "  #   print('Test data')\n",
        "\n",
        "  num_correct = 0\n",
        "  num_samples = 0\n",
        "  model.eval()\n",
        "\n",
        "  with torch.no_grad():\n",
        "    for x, y in loader:\n",
        "      x = x.to(device).squeeze(1)\n",
        "      y = y.to(device)\n",
        "\n",
        "      scores = model(x)\n",
        "      _, predictions = scores.max(1)\n",
        "      num_correct += (predictions == y).sum()\n",
        "      num_samples += predictions.size(0)\n",
        "\n",
        "    print(f'{float(num_correct)/float(num_samples)*100:.2f}')\n",
        "\n",
        "  model.train()"
      ],
      "metadata": {
        "id": "Kx5tuQqgn5iF"
      },
      "execution_count": null,
      "outputs": []
    },
    {
      "cell_type": "code",
      "source": [
        "check_accuracy(train_loader, model)\n",
        "check_accuracy(test_loader, model)"
      ],
      "metadata": {
        "colab": {
          "base_uri": "https://localhost:8080/"
        },
        "id": "I5xlHtTSqdoM",
        "outputId": "5ef53222-6fe8-4928-d5cb-ac461962d4b8"
      },
      "execution_count": null,
      "outputs": [
        {
          "output_type": "stream",
          "name": "stdout",
          "text": [
            "Training data\n",
            "39.22\n",
            "Test data\n",
            "39.52\n"
          ]
        }
      ]
    },
    {
      "cell_type": "code",
      "source": [],
      "metadata": {
        "id": "cCVxQHFmqlmT"
      },
      "execution_count": null,
      "outputs": []
    }
  ]
}